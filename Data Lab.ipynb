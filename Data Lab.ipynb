{
 "cells": [
  {
   "cell_type": "markdown",
   "metadata": {},
   "source": [
    "# Introduction to Spark\n",
    "Master M2 – Université Grenoble Alpes & Grenoble INP - Alvaro Gonzalez Jimenez"
   ]
  },
  {
   "cell_type": "code",
   "execution_count": null,
   "metadata": {},
   "outputs": [],
   "source": [
    "import sys\n",
    "from pyspark import SparkContext\n",
    "import time\n",
    "\n",
    "# Finds out the index of \"name\" in the array firstLine\n",
    "# returns -1 if it cannot find it\n",
    "def findCol(firstLine, name):\n",
    "    if name in firstLine:\n",
    "        return firstLine.index(name)\n",
    "    else:\n",
    "        return -1\n",
    "\n",
    "\n",
    "#### Driver program\n",
    "\n",
    "# start spark with 1 worker thread\n",
    "sc = SparkContext(\"local[1]\")\n",
    "sc.setLogLevel(\"ERROR\")\n",
    "\n",
    "\n",
    "# read the input file into an RDD[String]\n",
    "wholeFile = sc.textFile(\"./data/CLIWOC15.csv\")\n",
    "\n",
    "# The first line of the file defines the name of each column in the cvs file\n",
    "# We store it as an array in the driver program\n",
    "firstLine = (\n",
    "    wholeFile.filter(lambda x: \"RecID\" in x).collect()[0].replace('\"', \"\").split(\",\")\n",
    ")\n",
    "\n",
    "# filter out the first line from the initial RDD\n",
    "entries = wholeFile.filter(lambda x: not (\"RecID\" in x))\n",
    "\n",
    "# split each line into an array of items\n",
    "entries = entries.map(lambda x: x.split(\",\"))\n",
    "\n",
    "# keep the RDD in memory\n",
    "entries.cache()\n",
    "\n",
    "##### Create an RDD that contains all nationalities observed in the\n",
    "##### different entries\n",
    "\n",
    "# Information about the nationality is provided in the column named\n",
    "# \"Nationality\"\n",
    "\n",
    "# First find the index of the column corresponding to the \"Nationality\"\n",
    "column_index = findCol(firstLine, \"Nationality\")\n",
    "print(\"{} corresponds to column {}\".format(\"Nationality\", column_index))\n",
    "\n",
    "# Use 'map' to create a RDD with all nationalities and 'distinct' to remove duplicates\n",
    "nationalities = entries.map(lambda x: x[column_index])\n",
    "nationalities = nationalities.map(lambda x: x.replace(\" \", \"\")).distinct()\n",
    "# Display the 5 first nationalities\n",
    "print(\"A few examples of nationalities:\")\n",
    "for elem in nationalities.sortBy(lambda x: x).take(5):\n",
    "    print(elem)"
   ]
  },
  {
   "cell_type": "markdown",
   "metadata": {},
   "source": [
    "## Count the total number of observations included in the dataset (each line corresponds to one observation)"
   ]
  },
  {
   "cell_type": "code",
   "execution_count": null,
   "metadata": {},
   "outputs": [],
   "source": [
    "from timeit import default_timer as timer\n",
    "\n",
    "start = timer()\n",
    "count = entries.count()\n",
    "end = timer()\n",
    "print(\"Total number of observations is\", count)\n",
    "\n",
    "print(\"Time: \", end - start, \"seg\")"
   ]
  },
  {
   "cell_type": "markdown",
   "metadata": {},
   "source": [
    "## Count the number of years over which observations have been made (Column \"Year\" should be used)"
   ]
  },
  {
   "cell_type": "code",
   "execution_count": null,
   "metadata": {},
   "outputs": [],
   "source": [
    "start = timer()\n",
    "column_index_year = findCol(firstLine, \"Year\")\n",
    "year_observations = entries.map(lambda x: x[column_index_year])\n",
    "year_observations = year_observations.filter(lambda x: x != \"NA\").distinct()\n",
    "count = year_observations.count()\n",
    "end = timer()\n",
    "print(\"Total number: \", count)\n",
    "print(\"Time: \", end - start, \"seg\")"
   ]
  },
  {
   "cell_type": "markdown",
   "metadata": {},
   "source": [
    " ## Display the oldest and the newest year of observation"
   ]
  },
  {
   "cell_type": "code",
   "execution_count": null,
   "metadata": {},
   "outputs": [],
   "source": [
    "start = timer()\n",
    "print(\"The newest year is:\", year_observations.max())\n",
    "print(\"The oldest year is:\", year_observations.min())\n",
    "end = timer()\n",
    "print(\"Time: \", end - start, \"seg\")"
   ]
  },
  {
   "cell_type": "markdown",
   "metadata": {},
   "source": [
    "## Display the years with the minimum and the maximum number of observations (and the corresponding number of observations)"
   ]
  },
  {
   "cell_type": "code",
   "execution_count": null,
   "metadata": {},
   "outputs": [],
   "source": [
    "import operator\n",
    "from operator import add\n",
    "\n",
    "start = timer()\n",
    "year_observations = entries.map(\n",
    "    lambda x: x[column_index_year]\n",
    ")  # I need all the data not just distinct\n",
    "year_observations = year_observations.map(lambda x: (x, 1))\n",
    "year_observations_tuples = year_observations.foldByKey(0, add).collect()\n",
    "dictionary = dict(year_observations_tuples)\n",
    "\n",
    "year_max_observations = max(dictionary.items(), key=operator.itemgetter(1))\n",
    "print(\"The year with the maximum number of observations is\", year_max_observations)\n",
    "\n",
    "year_min_observations = min(dictionary.items(), key=operator.itemgetter(1))\n",
    "print(\"The year with the minimum number of observations is\", year_min_observations)\n",
    "end = timer()\n",
    "\n",
    "print(\"Time: \", end - start, \"seg\")"
   ]
  },
  {
   "cell_type": "markdown",
   "metadata": {},
   "source": [
    "## Count the distinct departure places (column \"VoyageFrom\") using two methods (i.e., using the function distinct() or reduceByKey()) and compare the execution time."
   ]
  },
  {
   "cell_type": "markdown",
   "metadata": {},
   "source": [
    "### With the function distinct()"
   ]
  },
  {
   "cell_type": "code",
   "execution_count": null,
   "metadata": {},
   "outputs": [],
   "source": [
    "start = timer()\n",
    "column_index_voyageFrom = findCol(firstLine, \"VoyageFrom\")\n",
    "voyageFrom_observations = entries.map(lambda x: x[column_index_voyageFrom])\n",
    "voyageFrom_observations = voyageFrom_observations.filter(lambda x: x != \"NA\").distinct()\n",
    "count = voyageFrom_observations.count()\n",
    "end = timer()\n",
    "print(\"The number of distinct departure places is\", count)\n",
    "print(\"Time: \", end - start, \"seg\")"
   ]
  },
  {
   "cell_type": "markdown",
   "metadata": {},
   "source": [
    "### With the function reduceByKey()"
   ]
  },
  {
   "cell_type": "code",
   "execution_count": null,
   "metadata": {},
   "outputs": [],
   "source": [
    "start = timer()\n",
    "column_index_voyageFrom = findCol(firstLine, \"VoyageFrom\")\n",
    "voyageFrom_observations = entries.map(lambda x: x[column_index_voyageFrom])\n",
    "voyageFrom_observations = voyageFrom_observations.filter(lambda x: x != \"NA\")\n",
    "voyageFrom_observations = voyageFrom_observations.map(lambda x: (x, 1))\n",
    "voyageFrom_observations = voyageFrom_observations.reduceByKey(\n",
    "    add\n",
    ")  # Don't care the add operation.\n",
    "count = voyageFrom_observations.count()\n",
    "end = timer()\n",
    "\n",
    "print(\"The number of distinct departure places is\", count)\n",
    "print(\"Time: \", end - start, \"seg\")"
   ]
  },
  {
   "cell_type": "markdown",
   "metadata": {},
   "source": [
    "## Display the 10 most popular departure places"
   ]
  },
  {
   "cell_type": "code",
   "execution_count": null,
   "metadata": {},
   "outputs": [],
   "source": [
    "start = timer()\n",
    "column_index_voyageFrom = findCol(firstLine, \"VoyageFrom\")\n",
    "voyageFrom_observations = entries.map(lambda x: x[column_index_voyageFrom])\n",
    "voyageFrom_observations = voyageFrom_observations.filter(lambda x: x != \"NA\")\n",
    "voyageFrom_observations = voyageFrom_observations.map(lambda x: (x, 1))\n",
    "voyageFrom_observations = voyageFrom_observations.reduceByKey(add)\n",
    "\n",
    "# Display the 10 most famous departures\n",
    "print(\"The Top-10 departures are:\")\n",
    "for elem in voyageFrom_observations.sortBy(lambda x: -x[1]).take(10):\n",
    "    print(elem)\n",
    "\n",
    "end = timer()\n",
    "print(\"Time: \", end - start, \"seg\")"
   ]
  },
  {
   "cell_type": "markdown",
   "metadata": {},
   "source": [
    "## Display the 10 roads (defined by a pair \"VoyageFrom\" and \"VoyageTo\") the most often taken."
   ]
  },
  {
   "cell_type": "code",
   "execution_count": null,
   "metadata": {},
   "outputs": [],
   "source": [
    "start = timer()\n",
    "column_index_voyageFrom = findCol(firstLine, \"VoyageFrom\")\n",
    "column_index_voyageTo = findCol(firstLine, \"VoyageTo\")\n",
    "voyageFrom_voyageTo = entries.map(\n",
    "    lambda x: ((x[column_index_voyageFrom], x[column_index_voyageTo]), 1)\n",
    ")\n",
    "voyageFrom_voyageTo = voyageFrom_voyageTo.filter(lambda x: \"NA\" not in x[0])\n",
    "voyageFrom_voyageTo = voyageFrom_voyageTo.reduceByKey(lambda x, y: x + y)\n",
    "for elem in voyageFrom_voyageTo.sortBy(lambda x: -x[1]).take(10):\n",
    "    print(elem)\n",
    "\n",
    "end = timer()\n",
    "print(\"Time: \", end - start, \"seg\")"
   ]
  },
  {
   "cell_type": "code",
   "execution_count": null,
   "metadata": {},
   "outputs": [],
   "source": []
  }
 ],
 "metadata": {
  "kernelspec": {
   "display_name": "Python 3",
   "language": "python",
   "name": "python3"
  },
  "language_info": {
   "codemirror_mode": {
    "name": "ipython",
    "version": 3
   },
   "file_extension": ".py",
   "mimetype": "text/x-python",
   "name": "python",
   "nbconvert_exporter": "python",
   "pygments_lexer": "ipython3",
   "version": "3.7.3"
  }
 },
 "nbformat": 4,
 "nbformat_minor": 2
}
